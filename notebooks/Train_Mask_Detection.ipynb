{
 "cells": [
  {
   "cell_type": "code",
   "execution_count": null,
   "id": "b1d8379f",
   "metadata": {},
   "outputs": [],
   "source": [
    "!pip install tf_keras"
   ]
  },
  {
   "cell_type": "code",
   "execution_count": 28,
   "id": "64b101f5",
   "metadata": {},
   "outputs": [],
   "source": [
    "from tensorflow.keras.preprocessing.image import ImageDataGenerator\n",
    "from tensorflow.keras.applications import MobileNetV2\n",
    "from tensorflow.keras.layers import AveragePooling2D\n",
    "from tensorflow.keras.layers import Dropout\n",
    "from tensorflow.keras.layers import Flatten\n",
    "from tensorflow.keras.layers import Dense\n",
    "from tensorflow.keras.layers import Input\n",
    "from tensorflow.keras.models import Model\n",
    "from tensorflow.keras.optimizers import Adam\n",
    "from tensorflow.keras.applications.mobilenet_v2 import preprocess_input\n",
    "from tensorflow.keras.preprocessing.image import img_to_array\n",
    "from tensorflow.keras.preprocessing.image import load_img\n",
    "from tensorflow.keras.utils import to_categorical\n",
    "from sklearn.preprocessing import LabelBinarizer\n",
    "from sklearn.model_selection import train_test_split\n",
    "from sklearn.metrics import classification_report\n",
    "from imutils import paths\n",
    "import matplotlib.pyplot as plt\n",
    "import numpy as np\n",
    "import os"
   ]
  },
  {
   "cell_type": "code",
   "execution_count": 29,
   "id": "b4822912",
   "metadata": {},
   "outputs": [],
   "source": [
    "# Initialize the initial learning rate, number of epochs to train for,\n",
    "# and batch size\n",
    "INIT_LR = 1e-4\n",
    "EPOCHS = 2\n",
    "BS = 32\n",
    "DIRECTORY = '../assets/dataset'"
   ]
  },
  {
   "cell_type": "code",
   "execution_count": 30,
   "id": "4f22baac",
   "metadata": {},
   "outputs": [
    {
     "name": "stdout",
     "output_type": "stream",
     "text": [
      "without_mask\n",
      "with_mask\n"
     ]
    },
    {
     "name": "stderr",
     "output_type": "stream",
     "text": [
      "d:\\Programming\\Projects\\Mask_detector\\maskVenv\\Lib\\site-packages\\PIL\\Image.py:1000: UserWarning: Palette images with Transparency expressed in bytes should be converted to RGBA images\n",
      "  warnings.warn(\n"
     ]
    },
    {
     "name": "stdout",
     "output_type": "stream",
     "text": [
      "['without_mask', 'without_mask', 'without_mask', 'without_mask', 'without_mask', 'without_mask', 'without_mask', 'without_mask', 'without_mask', 'without_mask']\n"
     ]
    }
   ],
   "source": [
    "data = []\n",
    "labels = []\n",
    "\n",
    "for category in os.listdir(DIRECTORY):\n",
    "    print(category)\n",
    "    path = os.path.join(DIRECTORY, category)\n",
    "    for img in os.listdir(path):\n",
    "        img_path = os.path.join(path, img)\n",
    "        image = load_img(img_path, target_size=(224, 224))\n",
    "        image = img_to_array(image)\n",
    "        image = preprocess_input(image)\n",
    "        \n",
    "        data.append(image)\n",
    "        labels.append(category)\n",
    "        \n",
    "print(labels[:10])"
   ]
  },
  {
   "cell_type": "code",
   "execution_count": 31,
   "id": "71e7f1b6",
   "metadata": {},
   "outputs": [
    {
     "name": "stdout",
     "output_type": "stream",
     "text": [
      "Before:  [[1]\n",
      " [1]]  ,type:  <class 'numpy.ndarray'>\n",
      "After:  [[0. 1.]\n",
      " [0. 1.]]  ,type:  <class 'numpy.ndarray'>\n",
      "Before-data:  [array([[[ 0.94509804,  0.94509804,  0.94509804],\n",
      "        [ 0.94509804,  0.94509804,  0.94509804],\n",
      "        [ 0.94509804,  0.94509804,  0.94509804],\n",
      "        ...,\n",
      "        [ 0.92941177,  0.92941177,  0.92941177],\n",
      "        [ 0.92941177,  0.92941177,  0.92941177],\n",
      "        [ 0.92941177,  0.92941177,  0.92941177]],\n",
      "\n",
      "       [[ 0.94509804,  0.94509804,  0.94509804],\n",
      "        [ 0.94509804,  0.94509804,  0.94509804],\n",
      "        [ 0.94509804,  0.94509804,  0.94509804],\n",
      "        ...,\n",
      "        [ 0.92941177,  0.92941177,  0.92941177],\n",
      "        [ 0.92941177,  0.92941177,  0.92941177],\n",
      "        [ 0.92941177,  0.92941177,  0.92941177]],\n",
      "\n",
      "       [[ 0.94509804,  0.94509804,  0.94509804],\n",
      "        [ 0.94509804,  0.94509804,  0.94509804],\n",
      "        [ 0.94509804,  0.94509804,  0.94509804],\n",
      "        ...,\n",
      "        [ 0.92941177,  0.92941177,  0.92941177],\n",
      "        [ 0.92941177,  0.92941177,  0.92941177],\n",
      "        [ 0.92941177,  0.92941177,  0.92941177]],\n",
      "\n",
      "       ...,\n",
      "\n",
      "       [[-0.7176471 , -0.7176471 , -0.7176471 ],\n",
      "        [-0.7176471 , -0.7176471 , -0.7176471 ],\n",
      "        [-0.64705884, -0.64705884, -0.64705884],\n",
      "        ...,\n",
      "        [-0.7882353 , -0.7882353 , -0.7882353 ],\n",
      "        [-0.7882353 , -0.7882353 , -0.7882353 ],\n",
      "        [-0.7882353 , -0.7882353 , -0.7882353 ]],\n",
      "\n",
      "       [[-0.70980394, -0.70980394, -0.70980394],\n",
      "        [-0.70980394, -0.70980394, -0.70980394],\n",
      "        [-0.64705884, -0.64705884, -0.64705884],\n",
      "        ...,\n",
      "        [-0.79607844, -0.79607844, -0.79607844],\n",
      "        [-0.79607844, -0.79607844, -0.79607844],\n",
      "        [-0.79607844, -0.79607844, -0.79607844]],\n",
      "\n",
      "       [[-0.70980394, -0.70980394, -0.70980394],\n",
      "        [-0.70980394, -0.70980394, -0.70980394],\n",
      "        [-0.64705884, -0.64705884, -0.64705884],\n",
      "        ...,\n",
      "        [-0.79607844, -0.79607844, -0.79607844],\n",
      "        [-0.79607844, -0.79607844, -0.79607844],\n",
      "        [-0.79607844, -0.79607844, -0.79607844]]], dtype=float32), array([[[ 0.58431375,  0.52156866,  0.62352943],\n",
      "        [ 0.5529412 ,  0.4901961 ,  0.5921569 ],\n",
      "        [ 0.5529412 ,  0.4901961 ,  0.5921569 ],\n",
      "        ...,\n",
      "        [ 0.5372549 ,  0.52156866,  0.54509807],\n",
      "        [ 0.5372549 ,  0.52156866,  0.54509807],\n",
      "        [ 0.5529412 ,  0.5372549 ,  0.56078434]],\n",
      "\n",
      "       [[ 0.58431375,  0.52156866,  0.62352943],\n",
      "        [ 0.5529412 ,  0.4901961 ,  0.5921569 ],\n",
      "        [ 0.5529412 ,  0.4901961 ,  0.5921569 ],\n",
      "        ...,\n",
      "        [ 0.5372549 ,  0.52156866,  0.54509807],\n",
      "        [ 0.5372549 ,  0.52156866,  0.54509807],\n",
      "        [ 0.5529412 ,  0.5372549 ,  0.56078434]],\n",
      "\n",
      "       [[ 0.58431375,  0.52156866,  0.62352943],\n",
      "        [ 0.58431375,  0.52156866,  0.62352943],\n",
      "        [ 0.58431375,  0.52156866,  0.62352943],\n",
      "        ...,\n",
      "        [ 0.5529412 ,  0.5372549 ,  0.56078434],\n",
      "        [ 0.5529412 ,  0.5372549 ,  0.56078434],\n",
      "        [ 0.58431375,  0.5686275 ,  0.5921569 ]],\n",
      "\n",
      "       ...,\n",
      "\n",
      "       [[-0.1372549 , -0.18431371,  0.03529418],\n",
      "        [ 0.17647064,  0.12941182,  0.34901965],\n",
      "        [ 0.17647064,  0.12941182,  0.34901965],\n",
      "        ...,\n",
      "        [ 0.12941182,  0.05098045,  0.24705887],\n",
      "        [ 0.12941182,  0.05098045,  0.24705887],\n",
      "        [ 0.33333337,  0.254902  ,  0.4431373 ]],\n",
      "\n",
      "       [[ 0.04313731,  0.01176476,  0.20784318],\n",
      "        [ 0.3411765 ,  0.30980396,  0.5058824 ],\n",
      "        [ 0.3411765 ,  0.30980396,  0.5058824 ],\n",
      "        ...,\n",
      "        [-0.27058822, -0.34117645, -0.12941176],\n",
      "        [-0.27058822, -0.34117645, -0.12941176],\n",
      "        [-0.05098039, -0.11372548,  0.07450986]],\n",
      "\n",
      "       [[ 0.04313731,  0.01176476,  0.20784318],\n",
      "        [ 0.3411765 ,  0.30980396,  0.5058824 ],\n",
      "        [ 0.3411765 ,  0.30980396,  0.5058824 ],\n",
      "        ...,\n",
      "        [-0.27058822, -0.34117645, -0.12941176],\n",
      "        [-0.27058822, -0.34117645, -0.12941176],\n",
      "        [-0.05098039, -0.11372548,  0.07450986]]], dtype=float32)]  ,type:  <class 'list'>\n",
      "After-After:  [[0. 1.]\n",
      " [0. 1.]]  ,type:  <class 'numpy.ndarray'>\n"
     ]
    }
   ],
   "source": [
    "# perform one-hot encoding on the labels\n",
    "lb = LabelBinarizer()\n",
    "labels = lb.fit_transform(labels)\n",
    "print(\"Before: \", labels[:2],\" ,type: \",type(labels))\n",
    "labels = to_categorical(labels)\n",
    "print(\"After: \", labels[:2],\" ,type: \",type(labels))\n",
    "\n",
    "print(\"Before-data: \", data[:2],\" ,type: \",type(data))\n",
    "data = np.array(data, dtype=\"float32\")\n",
    "labels = np.array(labels)\n",
    "print(\"After-After: \", labels[:2],\" ,type: \",type(labels))"
   ]
  },
  {
   "cell_type": "code",
   "execution_count": 32,
   "id": "c608337a",
   "metadata": {},
   "outputs": [
    {
     "data": {
      "text/plain": [
       "array([[0., 1.],\n",
       "       [0., 1.],\n",
       "       [0., 1.],\n",
       "       [0., 1.],\n",
       "       [0., 1.],\n",
       "       [0., 1.],\n",
       "       [0., 1.],\n",
       "       [0., 1.],\n",
       "       [0., 1.],\n",
       "       [0., 1.]])"
      ]
     },
     "execution_count": 32,
     "metadata": {},
     "output_type": "execute_result"
    }
   ],
   "source": [
    "labels[:10]"
   ]
  },
  {
   "cell_type": "code",
   "execution_count": 33,
   "id": "b4a1c892",
   "metadata": {},
   "outputs": [],
   "source": [
    "(trainX, testX, trainY, testY) = train_test_split(data, labels, test_size=0.20, stratify=labels, random_state=42)"
   ]
  },
  {
   "cell_type": "code",
   "execution_count": 34,
   "id": "716b83e5",
   "metadata": {},
   "outputs": [],
   "source": [
    "aug = ImageDataGenerator(\n",
    "    rotation_range=20,\n",
    "    zoom_range=0.15,\n",
    "    width_shift_range=0.2,\n",
    "    height_shift_range=0.2,\n",
    "    shear_range=0.15,\n",
    "    horizontal_flip=True,\n",
    "    fill_mode=\"nearest\")"
   ]
  },
  {
   "cell_type": "code",
   "execution_count": 35,
   "id": "0772282d",
   "metadata": {},
   "outputs": [
    {
     "name": "stderr",
     "output_type": "stream",
     "text": [
      "C:\\Users\\VickyWadh\\AppData\\Local\\Temp\\ipykernel_25156\\3680935412.py:2: UserWarning: `input_shape` is undefined or non-square, or `rows` is not in [96, 128, 160, 192, 224]. Weights for input shape (224, 224) will be loaded as the default.\n",
      "  baseModel = MobileNetV2(weights=\"imagenet\", include_top=False,\n"
     ]
    }
   ],
   "source": [
    "# load the MobileNetV2 network, ensuring the head FC Layer sets are left off\n",
    "baseModel = MobileNetV2(weights=\"imagenet\", include_top=False,\n",
    "                       input_tensor=Input(shape=(224,224,3)))"
   ]
  },
  {
   "cell_type": "code",
   "execution_count": 36,
   "id": "185ef084",
   "metadata": {},
   "outputs": [],
   "source": [
    "# construct the head of the model that will be placed on the top of the base model\n",
    "headModel = baseModel.output\n",
    "headModel = AveragePooling2D(pool_size=(7,7))(headModel)\n",
    "headModel = Flatten(name=\"flatten\")(headModel)\n",
    "headModel = Dense(128, activation=\"relu\")(headModel)\n",
    "headModel = Dropout(0.5)(headModel)\n",
    "headModel = Dense(2, activation=\"softmax\")(headModel)"
   ]
  },
  {
   "cell_type": "code",
   "execution_count": 37,
   "id": "204919cd",
   "metadata": {},
   "outputs": [],
   "source": [
    "# place the head FC model on top of the base model (this will become the actual model we will train)\n",
    "model = Model(inputs=baseModel.input, outputs=headModel)"
   ]
  },
  {
   "cell_type": "code",
   "execution_count": 38,
   "id": "27601586",
   "metadata": {},
   "outputs": [
    {
     "name": "stdout",
     "output_type": "stream",
     "text": [
      "<InputLayer name=input_layer_1, built=True>\n",
      "<Conv2D name=Conv1, built=True>\n",
      "<BatchNormalization name=bn_Conv1, built=True>\n",
      "<ReLU name=Conv1_relu, built=True>\n",
      "<DepthwiseConv2D name=expanded_conv_depthwise, built=True>\n",
      "<BatchNormalization name=expanded_conv_depthwise_BN, built=True>\n",
      "<ReLU name=expanded_conv_depthwise_relu, built=True>\n",
      "<Conv2D name=expanded_conv_project, built=True>\n",
      "<BatchNormalization name=expanded_conv_project_BN, built=True>\n",
      "<Conv2D name=block_1_expand, built=True>\n",
      "<BatchNormalization name=block_1_expand_BN, built=True>\n",
      "<ReLU name=block_1_expand_relu, built=True>\n",
      "<ZeroPadding2D name=block_1_pad, built=True>\n",
      "<DepthwiseConv2D name=block_1_depthwise, built=True>\n",
      "<BatchNormalization name=block_1_depthwise_BN, built=True>\n",
      "<ReLU name=block_1_depthwise_relu, built=True>\n",
      "<Conv2D name=block_1_project, built=True>\n",
      "<BatchNormalization name=block_1_project_BN, built=True>\n",
      "<Conv2D name=block_2_expand, built=True>\n",
      "<BatchNormalization name=block_2_expand_BN, built=True>\n",
      "<ReLU name=block_2_expand_relu, built=True>\n",
      "<DepthwiseConv2D name=block_2_depthwise, built=True>\n",
      "<BatchNormalization name=block_2_depthwise_BN, built=True>\n",
      "<ReLU name=block_2_depthwise_relu, built=True>\n",
      "<Conv2D name=block_2_project, built=True>\n",
      "<BatchNormalization name=block_2_project_BN, built=True>\n",
      "<Add name=block_2_add, built=True>\n",
      "<Conv2D name=block_3_expand, built=True>\n",
      "<BatchNormalization name=block_3_expand_BN, built=True>\n",
      "<ReLU name=block_3_expand_relu, built=True>\n",
      "<ZeroPadding2D name=block_3_pad, built=True>\n",
      "<DepthwiseConv2D name=block_3_depthwise, built=True>\n",
      "<BatchNormalization name=block_3_depthwise_BN, built=True>\n",
      "<ReLU name=block_3_depthwise_relu, built=True>\n",
      "<Conv2D name=block_3_project, built=True>\n",
      "<BatchNormalization name=block_3_project_BN, built=True>\n",
      "<Conv2D name=block_4_expand, built=True>\n",
      "<BatchNormalization name=block_4_expand_BN, built=True>\n",
      "<ReLU name=block_4_expand_relu, built=True>\n",
      "<DepthwiseConv2D name=block_4_depthwise, built=True>\n",
      "<BatchNormalization name=block_4_depthwise_BN, built=True>\n",
      "<ReLU name=block_4_depthwise_relu, built=True>\n",
      "<Conv2D name=block_4_project, built=True>\n",
      "<BatchNormalization name=block_4_project_BN, built=True>\n",
      "<Add name=block_4_add, built=True>\n",
      "<Conv2D name=block_5_expand, built=True>\n",
      "<BatchNormalization name=block_5_expand_BN, built=True>\n",
      "<ReLU name=block_5_expand_relu, built=True>\n",
      "<DepthwiseConv2D name=block_5_depthwise, built=True>\n",
      "<BatchNormalization name=block_5_depthwise_BN, built=True>\n",
      "<ReLU name=block_5_depthwise_relu, built=True>\n",
      "<Conv2D name=block_5_project, built=True>\n",
      "<BatchNormalization name=block_5_project_BN, built=True>\n",
      "<Add name=block_5_add, built=True>\n",
      "<Conv2D name=block_6_expand, built=True>\n",
      "<BatchNormalization name=block_6_expand_BN, built=True>\n",
      "<ReLU name=block_6_expand_relu, built=True>\n",
      "<ZeroPadding2D name=block_6_pad, built=True>\n",
      "<DepthwiseConv2D name=block_6_depthwise, built=True>\n",
      "<BatchNormalization name=block_6_depthwise_BN, built=True>\n",
      "<ReLU name=block_6_depthwise_relu, built=True>\n",
      "<Conv2D name=block_6_project, built=True>\n",
      "<BatchNormalization name=block_6_project_BN, built=True>\n",
      "<Conv2D name=block_7_expand, built=True>\n",
      "<BatchNormalization name=block_7_expand_BN, built=True>\n",
      "<ReLU name=block_7_expand_relu, built=True>\n",
      "<DepthwiseConv2D name=block_7_depthwise, built=True>\n",
      "<BatchNormalization name=block_7_depthwise_BN, built=True>\n",
      "<ReLU name=block_7_depthwise_relu, built=True>\n",
      "<Conv2D name=block_7_project, built=True>\n",
      "<BatchNormalization name=block_7_project_BN, built=True>\n",
      "<Add name=block_7_add, built=True>\n",
      "<Conv2D name=block_8_expand, built=True>\n",
      "<BatchNormalization name=block_8_expand_BN, built=True>\n",
      "<ReLU name=block_8_expand_relu, built=True>\n",
      "<DepthwiseConv2D name=block_8_depthwise, built=True>\n",
      "<BatchNormalization name=block_8_depthwise_BN, built=True>\n",
      "<ReLU name=block_8_depthwise_relu, built=True>\n",
      "<Conv2D name=block_8_project, built=True>\n",
      "<BatchNormalization name=block_8_project_BN, built=True>\n",
      "<Add name=block_8_add, built=True>\n",
      "<Conv2D name=block_9_expand, built=True>\n",
      "<BatchNormalization name=block_9_expand_BN, built=True>\n",
      "<ReLU name=block_9_expand_relu, built=True>\n",
      "<DepthwiseConv2D name=block_9_depthwise, built=True>\n",
      "<BatchNormalization name=block_9_depthwise_BN, built=True>\n",
      "<ReLU name=block_9_depthwise_relu, built=True>\n",
      "<Conv2D name=block_9_project, built=True>\n",
      "<BatchNormalization name=block_9_project_BN, built=True>\n",
      "<Add name=block_9_add, built=True>\n",
      "<Conv2D name=block_10_expand, built=True>\n",
      "<BatchNormalization name=block_10_expand_BN, built=True>\n",
      "<ReLU name=block_10_expand_relu, built=True>\n",
      "<DepthwiseConv2D name=block_10_depthwise, built=True>\n",
      "<BatchNormalization name=block_10_depthwise_BN, built=True>\n",
      "<ReLU name=block_10_depthwise_relu, built=True>\n",
      "<Conv2D name=block_10_project, built=True>\n",
      "<BatchNormalization name=block_10_project_BN, built=True>\n",
      "<Conv2D name=block_11_expand, built=True>\n",
      "<BatchNormalization name=block_11_expand_BN, built=True>\n",
      "<ReLU name=block_11_expand_relu, built=True>\n",
      "<DepthwiseConv2D name=block_11_depthwise, built=True>\n",
      "<BatchNormalization name=block_11_depthwise_BN, built=True>\n",
      "<ReLU name=block_11_depthwise_relu, built=True>\n",
      "<Conv2D name=block_11_project, built=True>\n",
      "<BatchNormalization name=block_11_project_BN, built=True>\n",
      "<Add name=block_11_add, built=True>\n",
      "<Conv2D name=block_12_expand, built=True>\n",
      "<BatchNormalization name=block_12_expand_BN, built=True>\n",
      "<ReLU name=block_12_expand_relu, built=True>\n",
      "<DepthwiseConv2D name=block_12_depthwise, built=True>\n",
      "<BatchNormalization name=block_12_depthwise_BN, built=True>\n",
      "<ReLU name=block_12_depthwise_relu, built=True>\n",
      "<Conv2D name=block_12_project, built=True>\n",
      "<BatchNormalization name=block_12_project_BN, built=True>\n",
      "<Add name=block_12_add, built=True>\n",
      "<Conv2D name=block_13_expand, built=True>\n",
      "<BatchNormalization name=block_13_expand_BN, built=True>\n",
      "<ReLU name=block_13_expand_relu, built=True>\n",
      "<ZeroPadding2D name=block_13_pad, built=True>\n",
      "<DepthwiseConv2D name=block_13_depthwise, built=True>\n",
      "<BatchNormalization name=block_13_depthwise_BN, built=True>\n",
      "<ReLU name=block_13_depthwise_relu, built=True>\n",
      "<Conv2D name=block_13_project, built=True>\n",
      "<BatchNormalization name=block_13_project_BN, built=True>\n",
      "<Conv2D name=block_14_expand, built=True>\n",
      "<BatchNormalization name=block_14_expand_BN, built=True>\n",
      "<ReLU name=block_14_expand_relu, built=True>\n",
      "<DepthwiseConv2D name=block_14_depthwise, built=True>\n",
      "<BatchNormalization name=block_14_depthwise_BN, built=True>\n",
      "<ReLU name=block_14_depthwise_relu, built=True>\n",
      "<Conv2D name=block_14_project, built=True>\n",
      "<BatchNormalization name=block_14_project_BN, built=True>\n",
      "<Add name=block_14_add, built=True>\n",
      "<Conv2D name=block_15_expand, built=True>\n",
      "<BatchNormalization name=block_15_expand_BN, built=True>\n",
      "<ReLU name=block_15_expand_relu, built=True>\n",
      "<DepthwiseConv2D name=block_15_depthwise, built=True>\n",
      "<BatchNormalization name=block_15_depthwise_BN, built=True>\n",
      "<ReLU name=block_15_depthwise_relu, built=True>\n",
      "<Conv2D name=block_15_project, built=True>\n",
      "<BatchNormalization name=block_15_project_BN, built=True>\n",
      "<Add name=block_15_add, built=True>\n",
      "<Conv2D name=block_16_expand, built=True>\n",
      "<BatchNormalization name=block_16_expand_BN, built=True>\n",
      "<ReLU name=block_16_expand_relu, built=True>\n",
      "<DepthwiseConv2D name=block_16_depthwise, built=True>\n",
      "<BatchNormalization name=block_16_depthwise_BN, built=True>\n",
      "<ReLU name=block_16_depthwise_relu, built=True>\n",
      "<Conv2D name=block_16_project, built=True>\n",
      "<BatchNormalization name=block_16_project_BN, built=True>\n",
      "<Conv2D name=Conv_1, built=True>\n",
      "<BatchNormalization name=Conv_1_bn, built=True>\n",
      "<ReLU name=out_relu, built=True>\n"
     ]
    }
   ],
   "source": [
    "# loop over all the layers in the base model and freeze them so they will \n",
    "# *not* be updated during the first training process\n",
    "for layer in baseModel.layers:\n",
    "    print(layer)\n",
    "    layer.trainable = False"
   ]
  },
  {
   "cell_type": "code",
   "execution_count": 45,
   "id": "3be244cf",
   "metadata": {},
   "outputs": [
    {
     "name": "stdout",
     "output_type": "stream",
     "text": [
      "[INFO] compiling model...\n"
     ]
    },
    {
     "name": "stderr",
     "output_type": "stream",
     "text": [
      "d:\\Programming\\Projects\\Mask_detector\\maskVenv\\Lib\\site-packages\\keras\\src\\optimizers\\base_optimizer.py:33: UserWarning: Argument `decay` is no longer supported and will be ignored.\n",
      "  warnings.warn(\n"
     ]
    }
   ],
   "source": [
    "import tensorflow as tf\n",
    "# compile our model\n",
    "print(\"[INFO] compiling model...\")\n",
    "opt = Adam(learning_rate=INIT_LR, decay=INIT_LR / EPOCHS)\n",
    "model.compile(loss=\"binary_crossentropy\", optimizer=opt,metrics=[\"accuracy\"])"
   ]
  },
  {
   "cell_type": "code",
   "execution_count": 46,
   "id": "18a9b4e5",
   "metadata": {},
   "outputs": [
    {
     "name": "stdout",
     "output_type": "stream",
     "text": [
      "[INFO] training head...\n",
      "Epoch 1/2\n"
     ]
    },
    {
     "name": "stderr",
     "output_type": "stream",
     "text": [
      "d:\\Programming\\Projects\\Mask_detector\\maskVenv\\Lib\\site-packages\\keras\\src\\trainers\\data_adapters\\py_dataset_adapter.py:121: UserWarning: Your `PyDataset` class should call `super().__init__(**kwargs)` in its constructor. `**kwargs` can include `workers`, `use_multiprocessing`, `max_queue_size`. Do not pass these arguments to `fit()`, as they will be ignored.\n",
      "  self._warn_if_super_not_called()\n"
     ]
    },
    {
     "name": "stdout",
     "output_type": "stream",
     "text": [
      "\u001b[1m188/188\u001b[0m \u001b[32m━━━━━━━━━━━━━━━━━━━━\u001b[0m\u001b[37m\u001b[0m \u001b[1m219s\u001b[0m 1s/step - accuracy: 0.8356 - loss: 0.4183 - val_accuracy: 0.9742 - val_loss: 0.0843\n",
      "Epoch 2/2\n"
     ]
    },
    {
     "name": "stderr",
     "output_type": "stream",
     "text": [
      "C:\\Users\\VickyWadh\\anaconda3\\Lib\\contextlib.py:155: UserWarning: Your input ran out of data; interrupting training. Make sure that your dataset or generator can generate at least `steps_per_epoch * epochs` batches. You may need to use the `.repeat()` function when building your dataset.\n",
      "  self.gen.throw(typ, value, traceback)\n"
     ]
    },
    {
     "name": "stdout",
     "output_type": "stream",
     "text": [
      "\u001b[1m188/188\u001b[0m \u001b[32m━━━━━━━━━━━━━━━━━━━━\u001b[0m\u001b[37m\u001b[0m \u001b[1m32s\u001b[0m 168ms/step - accuracy: 0.9688 - loss: 0.0960 - val_accuracy: 0.9735 - val_loss: 0.0840\n"
     ]
    }
   ],
   "source": [
    "# train the head of the network\n",
    "print(\"[INFO] training head...\")\n",
    "H = model.fit(\n",
    "    aug.flow(trainX, trainY, batch_size=BS),\n",
    "    steps_per_epoch=len(trainX) // BS,\n",
    "    validation_data=(testX, testY),\n",
    "    validation_steps=len(testX) // BS,\n",
    "    epochs=EPOCHS)"
   ]
  },
  {
   "cell_type": "code",
   "execution_count": 47,
   "id": "634f0d23",
   "metadata": {},
   "outputs": [
    {
     "name": "stdout",
     "output_type": "stream",
     "text": [
      "[INFO] evaluating network...\n",
      "\u001b[1m48/48\u001b[0m \u001b[32m━━━━━━━━━━━━━━━━━━━━\u001b[0m\u001b[37m\u001b[0m \u001b[1m35s\u001b[0m 688ms/step\n"
     ]
    }
   ],
   "source": [
    "# make predictions on the testing set\n",
    "print(\"[INFO] evaluating network...\")\n",
    "predIdxs = model.predict(testX, batch_size=BS)"
   ]
  },
  {
   "cell_type": "code",
   "execution_count": 48,
   "id": "1a891386",
   "metadata": {},
   "outputs": [
    {
     "name": "stdout",
     "output_type": "stream",
     "text": [
      "              precision    recall  f1-score   support\n",
      "\n",
      "   with_mask       0.97      0.97      0.97       745\n",
      "without_mask       0.98      0.97      0.97       766\n",
      "\n",
      "    accuracy                           0.97      1511\n",
      "   macro avg       0.97      0.97      0.97      1511\n",
      "weighted avg       0.97      0.97      0.97      1511\n",
      "\n"
     ]
    }
   ],
   "source": [
    "# for each image in the testing set we need to find the index of the label\n",
    "# with corresponding largest predicted probability\n",
    "predIdxs = np.argmax(predIdxs, axis=1)\n",
    "\n",
    "# show a nicely formatted classification report\n",
    "print(classification_report(testY.argmax(axis=1), predIdxs, target_names=lb.classes_))"
   ]
  },
  {
   "cell_type": "code",
   "execution_count": 51,
   "id": "500c8e0a",
   "metadata": {},
   "outputs": [
    {
     "name": "stdout",
     "output_type": "stream",
     "text": [
      "[INFO] saving mask detector model...\n"
     ]
    }
   ],
   "source": [
    "# serialize the model to disk\n",
    "print(\"[INFO] saving mask detector model...\")\n",
    "model.save(\"../assets/model/mask_detector.keras\")"
   ]
  },
  {
   "cell_type": "code",
   "execution_count": 52,
   "id": "4fa65710",
   "metadata": {},
   "outputs": [
    {
     "data": {
      "image/png": "[encoded data removed]",
      "text/plain": [
       "<Figure size 640x480 with 1 Axes>"
      ]
     },
     "metadata": {},
     "output_type": "display_data"
    }
   ],
   "source": [
    "# plotting the training loss and accuracy\n",
    "N = len(H.history['loss'])\n",
    "plt.style.use(\"ggplot\")\n",
    "plt.figure()\n",
    "plt.plot(np.arange(0,N), H.history[\"loss\"], label=\"train_loss\")\n",
    "plt.plot(np.arange(0,len(H.history['val_loss'])), H.history[\"val_loss\"], label=\"val_loss\")\n",
    "plt.plot(np.arange(0,N), H.history[\"accuracy\"], label=\"train_acc\")\n",
    "plt.plot(np.arange(0,len(H.history[\"val_accuracy\"])), H.history[\"val_accuracy\"], label=\"val_acc\")\n",
    "plt.title(\"Training Loss and Accuracy\")\n",
    "plt.xlabel(\"Epoch #\")\n",
    "plt.ylabel(\"Loss/Accuracy\")\n",
    "plt.legend(loc=\"lower left\")\n",
    "plt.savefig(\"plot.png\")"
   ]
  },
  {
   "cell_type": "code",
   "execution_count": 53,
   "id": "eaee9298",
   "metadata": {},
   "outputs": [
    {
     "data": {
      "text/plain": [
       "{'accuracy': [0.9156405925750732, 0.96875],\n",
       " 'loss': [0.25978943705558777, 0.0960015207529068],\n",
       " 'val_accuracy': [0.974189281463623, 0.9735274910926819],\n",
       " 'val_loss': [0.0842733383178711, 0.08401167392730713]}"
      ]
     },
     "execution_count": 53,
     "metadata": {},
     "output_type": "execute_result"
    }
   ],
   "source": [
    "H.history"
   ]
  },
  {
   "cell_type": "code",
   "execution_count": null,
   "id": "f907650a",
   "metadata": {},
   "outputs": [],
   "source": []
  }
 ],
 "metadata": {
  "kernelspec": {
   "display_name": "Python 3 (ipykernel)",
   "language": "python",
   "name": "python3"
  },
  "language_info": {
   "codemirror_mode": {
    "name": "ipython",
    "version": 3
   },
   "file_extension": ".py",
   "mimetype": "text/x-python",
   "name": "python",
   "nbconvert_exporter": "python",
   "pygments_lexer": "ipython3",
   "version": "3.11.5"
  }
 },
 "nbformat": 4,
 "nbformat_minor": 5
}
